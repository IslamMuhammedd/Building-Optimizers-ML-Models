{
 "cells": [
  {
   "cell_type": "markdown",
   "id": "77536b1f",
   "metadata": {},
   "source": [
    "# Author : Eslam Mohamed\n",
    "# K-Means Algorithm From Scratch\n",
    "# First Version"
   ]
  },
  {
   "cell_type": "code",
   "execution_count": 53,
   "id": "6c78a202",
   "metadata": {},
   "outputs": [],
   "source": [
    "from sklearn import datasets\n",
    "import pandas as pd\n",
    "import numpy as np \n",
    "import matplotlib.pyplot as plt\n",
    "from sklearn.preprocessing import Normalizer\n",
    "import copy"
   ]
  },
  {
   "cell_type": "code",
   "execution_count": 54,
   "id": "0a50678d",
   "metadata": {},
   "outputs": [
    {
     "data": {
      "text/html": [
       "<div>\n",
       "<style scoped>\n",
       "    .dataframe tbody tr th:only-of-type {\n",
       "        vertical-align: middle;\n",
       "    }\n",
       "\n",
       "    .dataframe tbody tr th {\n",
       "        vertical-align: top;\n",
       "    }\n",
       "\n",
       "    .dataframe thead th {\n",
       "        text-align: right;\n",
       "    }\n",
       "</style>\n",
       "<table border=\"1\" class=\"dataframe\">\n",
       "  <thead>\n",
       "    <tr style=\"text-align: right;\">\n",
       "      <th></th>\n",
       "      <th>sepal_length</th>\n",
       "      <th>sepal_width</th>\n",
       "      <th>petal_length</th>\n",
       "      <th>petal_width</th>\n",
       "      <th>species</th>\n",
       "    </tr>\n",
       "  </thead>\n",
       "  <tbody>\n",
       "    <tr>\n",
       "      <th>0</th>\n",
       "      <td>5.1</td>\n",
       "      <td>3.5</td>\n",
       "      <td>1.4</td>\n",
       "      <td>0.2</td>\n",
       "      <td>Iris-setosa</td>\n",
       "    </tr>\n",
       "    <tr>\n",
       "      <th>1</th>\n",
       "      <td>4.9</td>\n",
       "      <td>3.0</td>\n",
       "      <td>1.4</td>\n",
       "      <td>0.2</td>\n",
       "      <td>Iris-setosa</td>\n",
       "    </tr>\n",
       "    <tr>\n",
       "      <th>2</th>\n",
       "      <td>4.7</td>\n",
       "      <td>3.2</td>\n",
       "      <td>1.3</td>\n",
       "      <td>0.2</td>\n",
       "      <td>Iris-setosa</td>\n",
       "    </tr>\n",
       "    <tr>\n",
       "      <th>3</th>\n",
       "      <td>4.6</td>\n",
       "      <td>3.1</td>\n",
       "      <td>1.5</td>\n",
       "      <td>0.2</td>\n",
       "      <td>Iris-setosa</td>\n",
       "    </tr>\n",
       "    <tr>\n",
       "      <th>4</th>\n",
       "      <td>5.0</td>\n",
       "      <td>3.6</td>\n",
       "      <td>1.4</td>\n",
       "      <td>0.2</td>\n",
       "      <td>Iris-setosa</td>\n",
       "    </tr>\n",
       "    <tr>\n",
       "      <th>...</th>\n",
       "      <td>...</td>\n",
       "      <td>...</td>\n",
       "      <td>...</td>\n",
       "      <td>...</td>\n",
       "      <td>...</td>\n",
       "    </tr>\n",
       "    <tr>\n",
       "      <th>145</th>\n",
       "      <td>6.7</td>\n",
       "      <td>3.0</td>\n",
       "      <td>5.2</td>\n",
       "      <td>2.3</td>\n",
       "      <td>Iris-virginica</td>\n",
       "    </tr>\n",
       "    <tr>\n",
       "      <th>146</th>\n",
       "      <td>6.3</td>\n",
       "      <td>2.5</td>\n",
       "      <td>5.0</td>\n",
       "      <td>1.9</td>\n",
       "      <td>Iris-virginica</td>\n",
       "    </tr>\n",
       "    <tr>\n",
       "      <th>147</th>\n",
       "      <td>6.5</td>\n",
       "      <td>3.0</td>\n",
       "      <td>5.2</td>\n",
       "      <td>2.0</td>\n",
       "      <td>Iris-virginica</td>\n",
       "    </tr>\n",
       "    <tr>\n",
       "      <th>148</th>\n",
       "      <td>6.2</td>\n",
       "      <td>3.4</td>\n",
       "      <td>5.4</td>\n",
       "      <td>2.3</td>\n",
       "      <td>Iris-virginica</td>\n",
       "    </tr>\n",
       "    <tr>\n",
       "      <th>149</th>\n",
       "      <td>5.9</td>\n",
       "      <td>3.0</td>\n",
       "      <td>5.1</td>\n",
       "      <td>1.8</td>\n",
       "      <td>Iris-virginica</td>\n",
       "    </tr>\n",
       "  </tbody>\n",
       "</table>\n",
       "<p>150 rows × 5 columns</p>\n",
       "</div>"
      ],
      "text/plain": [
       "     sepal_length  sepal_width  petal_length  petal_width         species\n",
       "0             5.1          3.5           1.4          0.2     Iris-setosa\n",
       "1             4.9          3.0           1.4          0.2     Iris-setosa\n",
       "2             4.7          3.2           1.3          0.2     Iris-setosa\n",
       "3             4.6          3.1           1.5          0.2     Iris-setosa\n",
       "4             5.0          3.6           1.4          0.2     Iris-setosa\n",
       "..            ...          ...           ...          ...             ...\n",
       "145           6.7          3.0           5.2          2.3  Iris-virginica\n",
       "146           6.3          2.5           5.0          1.9  Iris-virginica\n",
       "147           6.5          3.0           5.2          2.0  Iris-virginica\n",
       "148           6.2          3.4           5.4          2.3  Iris-virginica\n",
       "149           5.9          3.0           5.1          1.8  Iris-virginica\n",
       "\n",
       "[150 rows x 5 columns]"
      ]
     },
     "execution_count": 54,
     "metadata": {},
     "output_type": "execute_result"
    }
   ],
   "source": [
    "# Reading Iris dataset\n",
    "df = pd.read_csv('IRIS.csv')\n",
    "df"
   ]
  },
  {
   "cell_type": "code",
   "execution_count": 55,
   "id": "7fd29862",
   "metadata": {},
   "outputs": [
    {
     "data": {
      "text/plain": [
       "3"
      ]
     },
     "execution_count": 55,
     "metadata": {},
     "output_type": "execute_result"
    }
   ],
   "source": [
    "# See No. of classes in data\n",
    "df['species'].nunique()"
   ]
  },
  {
   "cell_type": "code",
   "execution_count": 56,
   "id": "290377c9",
   "metadata": {},
   "outputs": [
    {
     "data": {
      "text/html": [
       "<div>\n",
       "<style scoped>\n",
       "    .dataframe tbody tr th:only-of-type {\n",
       "        vertical-align: middle;\n",
       "    }\n",
       "\n",
       "    .dataframe tbody tr th {\n",
       "        vertical-align: top;\n",
       "    }\n",
       "\n",
       "    .dataframe thead th {\n",
       "        text-align: right;\n",
       "    }\n",
       "</style>\n",
       "<table border=\"1\" class=\"dataframe\">\n",
       "  <thead>\n",
       "    <tr style=\"text-align: right;\">\n",
       "      <th></th>\n",
       "      <th>sepal_length</th>\n",
       "      <th>petal_length</th>\n",
       "    </tr>\n",
       "  </thead>\n",
       "  <tbody>\n",
       "    <tr>\n",
       "      <th>0</th>\n",
       "      <td>5.1</td>\n",
       "      <td>1.4</td>\n",
       "    </tr>\n",
       "    <tr>\n",
       "      <th>1</th>\n",
       "      <td>4.9</td>\n",
       "      <td>1.4</td>\n",
       "    </tr>\n",
       "    <tr>\n",
       "      <th>2</th>\n",
       "      <td>4.7</td>\n",
       "      <td>1.3</td>\n",
       "    </tr>\n",
       "    <tr>\n",
       "      <th>3</th>\n",
       "      <td>4.6</td>\n",
       "      <td>1.5</td>\n",
       "    </tr>\n",
       "    <tr>\n",
       "      <th>4</th>\n",
       "      <td>5.0</td>\n",
       "      <td>1.4</td>\n",
       "    </tr>\n",
       "    <tr>\n",
       "      <th>...</th>\n",
       "      <td>...</td>\n",
       "      <td>...</td>\n",
       "    </tr>\n",
       "    <tr>\n",
       "      <th>145</th>\n",
       "      <td>6.7</td>\n",
       "      <td>5.2</td>\n",
       "    </tr>\n",
       "    <tr>\n",
       "      <th>146</th>\n",
       "      <td>6.3</td>\n",
       "      <td>5.0</td>\n",
       "    </tr>\n",
       "    <tr>\n",
       "      <th>147</th>\n",
       "      <td>6.5</td>\n",
       "      <td>5.2</td>\n",
       "    </tr>\n",
       "    <tr>\n",
       "      <th>148</th>\n",
       "      <td>6.2</td>\n",
       "      <td>5.4</td>\n",
       "    </tr>\n",
       "    <tr>\n",
       "      <th>149</th>\n",
       "      <td>5.9</td>\n",
       "      <td>5.1</td>\n",
       "    </tr>\n",
       "  </tbody>\n",
       "</table>\n",
       "<p>150 rows × 2 columns</p>\n",
       "</div>"
      ],
      "text/plain": [
       "     sepal_length  petal_length\n",
       "0             5.1           1.4\n",
       "1             4.9           1.4\n",
       "2             4.7           1.3\n",
       "3             4.6           1.5\n",
       "4             5.0           1.4\n",
       "..            ...           ...\n",
       "145           6.7           5.2\n",
       "146           6.3           5.0\n",
       "147           6.5           5.2\n",
       "148           6.2           5.4\n",
       "149           5.9           5.1\n",
       "\n",
       "[150 rows x 2 columns]"
      ]
     },
     "execution_count": 56,
     "metadata": {},
     "output_type": "execute_result"
    }
   ],
   "source": [
    "# Choosing only 2 features to help visualization\n",
    "data = df.iloc[:,[0,2]]\n",
    "data"
   ]
  },
  {
   "cell_type": "code",
   "execution_count": 57,
   "id": "878257d0",
   "metadata": {},
   "outputs": [
    {
     "data": {
      "text/plain": [
       "(150, 2)"
      ]
     },
     "execution_count": 57,
     "metadata": {},
     "output_type": "execute_result"
    }
   ],
   "source": [
    "# Converting data to numpy array\n",
    "data_np = np.array([data.sepal_length,data.petal_length])\n",
    "data_np.T.shape"
   ]
  },
  {
   "cell_type": "code",
   "execution_count": 58,
   "id": "3ddf0953",
   "metadata": {},
   "outputs": [
    {
     "data": {
      "text/plain": [
       "<matplotlib.collections.PathCollection at 0x22489f2f250>"
      ]
     },
     "execution_count": 58,
     "metadata": {},
     "output_type": "execute_result"
    },
    {
     "data": {
      "image/png": "[encoded data removed]",
      "text/plain": [
       "<Figure size 432x288 with 1 Axes>"
      ]
     },
     "metadata": {
      "needs_background": "light"
     },
     "output_type": "display_data"
    }
   ],
   "source": [
    "#plotting the data\n",
    "plt.scatter(data.sepal_length,data.petal_length)"
   ]
  },
  {
   "cell_type": "code",
   "execution_count": 59,
   "id": "954ce96d",
   "metadata": {},
   "outputs": [],
   "source": [
    "# function that initialize centroids\n",
    "\n",
    "def init_centroids_2(data, no_of_centroids):\n",
    "    \n",
    "    #centroids = np.random.rand(no_of_centroids,data.shape[1])\n",
    "    \n",
    "    centroids = {\n",
    "        \n",
    "        i+1:[np.array(data.iloc[np.random.randint(0,len(data)),[0,1]])]\n",
    "        for i in range(no_of_centroids)\n",
    "        \n",
    "             }\n",
    "    return centroids\n"
   ]
  },
  {
   "cell_type": "code",
   "execution_count": 8,
   "id": "a6107414",
   "metadata": {},
   "outputs": [
    {
     "data": {
      "text/plain": [
       "{1: [array([4.4, 1.4])], 2: [array([6. , 4.5])], 3: [array([4.6, 1. ])]}"
      ]
     },
     "execution_count": 8,
     "metadata": {},
     "output_type": "execute_result"
    }
   ],
   "source": [
    "test_centeroids = init_centroids_2(data,3)\n",
    "test_centeroids"
   ]
  },
  {
   "cell_type": "code",
   "execution_count": 60,
   "id": "f375d27e",
   "metadata": {},
   "outputs": [],
   "source": [
    "# Function that assign each point to nearest centeroid\n",
    "\n",
    "def assigning_data_points(data , centroids):\n",
    "    \n",
    "    data_np = np.array([data.sepal_length,data.petal_length])\n",
    "\n",
    "    temp_data = copy.deepcopy(data)\n",
    "\n",
    "    for center in centroids.keys():\n",
    "        diff_square = np.square(data_np.T - centroids[center][0].reshape(1,-1))\n",
    "        \n",
    "        diff_sum_square = np.sum(diff_square,axis=1)\n",
    "        temp_data[f'distance_from{center}'] = diff_sum_square\n",
    "        \n",
    "    cols = [f'distance_from{center}' for center in centroids.keys()]\n",
    "    temp_data['closest'] = temp_data.loc[:,cols].idxmin(axis=1)\n",
    "    temp_data['closest'] = temp_data['closest'].map(lambda x : int(x.lstrip('distance_from')))\n",
    "    return temp_data"
   ]
  },
  {
   "cell_type": "code",
   "execution_count": 61,
   "id": "c6f7dbaa",
   "metadata": {},
   "outputs": [],
   "source": [
    "# Adjusting centroids by calculatin average of points in each cluster\n",
    "\n",
    "def adjust_centroids(data_new,centroids):\n",
    "    for center in centroids.keys():\n",
    "        if not data_new[data_new['closest'] == center].empty:\n",
    "            centroids[center][0][0] = np.mean(data_new[data_new['closest'] == center]['sepal_length'])\n",
    "            \n",
    "            centroids[center][0][1] = np.mean(data_new[data_new['closest'] == center]['petal_length'])\n",
    "    return centroids"
   ]
  },
  {
   "cell_type": "code",
   "execution_count": 72,
   "id": "aafbdf65",
   "metadata": {},
   "outputs": [],
   "source": [
    "# K-Means Algorithm\n",
    "\n",
    "def k_means(data, k):\n",
    "    \n",
    "    centroids = init_centroids_2(data , k)\n",
    "    new_data = assigning_data_points(data,centroids)\n",
    "\n",
    "    while True:\n",
    "        \n",
    "        closest_centers = new_data['closest'].copy(deep = True)\n",
    "        centroids = adjust_centroids(new_data,centroids)\n",
    "        new_data = assigning_data_points(new_data,centroids)\n",
    "#         print(1)\n",
    "        if closest_centers.equals(new_data['closest']):\n",
    "            return new_data, centroids\n",
    "            break\n",
    "#     return new_data, centroids"
   ]
  },
  {
   "cell_type": "code",
   "execution_count": 63,
   "id": "f49120d8",
   "metadata": {},
   "outputs": [
    {
     "name": "stdout",
     "output_type": "stream",
     "text": [
      "1\n",
      "1\n",
      "1\n",
      "1\n"
     ]
    },
    {
     "data": {
      "text/plain": [
       "{1: [array([6.31458333, 4.97395833])],\n",
       " 2: [array([4.855, 1.64 ])],\n",
       " 3: [array([5.43571429, 1.47857143])]}"
      ]
     },
     "execution_count": 63,
     "metadata": {},
     "output_type": "execute_result"
    }
   ],
   "source": [
    "test_data , final_centers = k_means(data,3)\n",
    "final_centers"
   ]
  },
  {
   "cell_type": "code",
   "execution_count": 64,
   "id": "1c44cd3a",
   "metadata": {},
   "outputs": [
    {
     "data": {
      "text/plain": [
       "array([[5.00784314, 1.49411765],\n",
       "       [5.87413793, 4.39310345],\n",
       "       [6.83902439, 5.67804878]])"
      ]
     },
     "execution_count": 64,
     "metadata": {},
     "output_type": "execute_result"
    }
   ],
   "source": [
    "# Test my centroids with sklearn Kmeans Algo.\n",
    "\n",
    "from sklearn.cluster import KMeans\n",
    "kmeans = KMeans(n_clusters=3, random_state=0).fit(data)\n",
    "kmeans.cluster_centers_"
   ]
  },
  {
   "cell_type": "code",
   "execution_count": 65,
   "id": "57dc9dd2",
   "metadata": {},
   "outputs": [
    {
     "data": {
      "text/html": [
       "<div>\n",
       "<style scoped>\n",
       "    .dataframe tbody tr th:only-of-type {\n",
       "        vertical-align: middle;\n",
       "    }\n",
       "\n",
       "    .dataframe tbody tr th {\n",
       "        vertical-align: top;\n",
       "    }\n",
       "\n",
       "    .dataframe thead th {\n",
       "        text-align: right;\n",
       "    }\n",
       "</style>\n",
       "<table border=\"1\" class=\"dataframe\">\n",
       "  <thead>\n",
       "    <tr style=\"text-align: right;\">\n",
       "      <th></th>\n",
       "      <th>sepal_length</th>\n",
       "      <th>petal_length</th>\n",
       "      <th>distance_from1</th>\n",
       "      <th>distance_from2</th>\n",
       "      <th>distance_from3</th>\n",
       "      <th>closest</th>\n",
       "    </tr>\n",
       "  </thead>\n",
       "  <tbody>\n",
       "    <tr>\n",
       "      <th>0</th>\n",
       "      <td>5.1</td>\n",
       "      <td>1.4</td>\n",
       "      <td>14.248391</td>\n",
       "      <td>0.117625</td>\n",
       "      <td>0.118878</td>\n",
       "      <td>2</td>\n",
       "    </tr>\n",
       "    <tr>\n",
       "      <th>1</th>\n",
       "      <td>4.9</td>\n",
       "      <td>1.4</td>\n",
       "      <td>14.774224</td>\n",
       "      <td>0.059625</td>\n",
       "      <td>0.293163</td>\n",
       "      <td>2</td>\n",
       "    </tr>\n",
       "    <tr>\n",
       "      <th>2</th>\n",
       "      <td>4.7</td>\n",
       "      <td>1.3</td>\n",
       "      <td>16.104849</td>\n",
       "      <td>0.139625</td>\n",
       "      <td>0.573163</td>\n",
       "      <td>2</td>\n",
       "    </tr>\n",
       "    <tr>\n",
       "      <th>3</th>\n",
       "      <td>4.6</td>\n",
       "      <td>1.5</td>\n",
       "      <td>15.008183</td>\n",
       "      <td>0.084625</td>\n",
       "      <td>0.698878</td>\n",
       "      <td>2</td>\n",
       "    </tr>\n",
       "    <tr>\n",
       "      <th>4</th>\n",
       "      <td>5.0</td>\n",
       "      <td>1.4</td>\n",
       "      <td>14.501308</td>\n",
       "      <td>0.078625</td>\n",
       "      <td>0.196020</td>\n",
       "      <td>2</td>\n",
       "    </tr>\n",
       "    <tr>\n",
       "      <th>...</th>\n",
       "      <td>...</td>\n",
       "      <td>...</td>\n",
       "      <td>...</td>\n",
       "      <td>...</td>\n",
       "      <td>...</td>\n",
       "      <td>...</td>\n",
       "    </tr>\n",
       "    <tr>\n",
       "      <th>145</th>\n",
       "      <td>6.7</td>\n",
       "      <td>5.2</td>\n",
       "      <td>0.199641</td>\n",
       "      <td>16.077625</td>\n",
       "      <td>15.447449</td>\n",
       "      <td>1</td>\n",
       "    </tr>\n",
       "    <tr>\n",
       "      <th>146</th>\n",
       "      <td>6.3</td>\n",
       "      <td>5.0</td>\n",
       "      <td>0.000891</td>\n",
       "      <td>13.377625</td>\n",
       "      <td>13.147449</td>\n",
       "      <td>1</td>\n",
       "    </tr>\n",
       "    <tr>\n",
       "      <th>147</th>\n",
       "      <td>6.5</td>\n",
       "      <td>5.2</td>\n",
       "      <td>0.085474</td>\n",
       "      <td>15.379625</td>\n",
       "      <td>14.981735</td>\n",
       "      <td>1</td>\n",
       "    </tr>\n",
       "    <tr>\n",
       "      <th>148</th>\n",
       "      <td>6.2</td>\n",
       "      <td>5.4</td>\n",
       "      <td>0.194641</td>\n",
       "      <td>15.946625</td>\n",
       "      <td>15.961735</td>\n",
       "      <td>1</td>\n",
       "    </tr>\n",
       "    <tr>\n",
       "      <th>149</th>\n",
       "      <td>5.9</td>\n",
       "      <td>5.1</td>\n",
       "      <td>0.187766</td>\n",
       "      <td>13.063625</td>\n",
       "      <td>13.330306</td>\n",
       "      <td>1</td>\n",
       "    </tr>\n",
       "  </tbody>\n",
       "</table>\n",
       "<p>150 rows × 6 columns</p>\n",
       "</div>"
      ],
      "text/plain": [
       "     sepal_length  petal_length  distance_from1  distance_from2  \\\n",
       "0             5.1           1.4       14.248391        0.117625   \n",
       "1             4.9           1.4       14.774224        0.059625   \n",
       "2             4.7           1.3       16.104849        0.139625   \n",
       "3             4.6           1.5       15.008183        0.084625   \n",
       "4             5.0           1.4       14.501308        0.078625   \n",
       "..            ...           ...             ...             ...   \n",
       "145           6.7           5.2        0.199641       16.077625   \n",
       "146           6.3           5.0        0.000891       13.377625   \n",
       "147           6.5           5.2        0.085474       15.379625   \n",
       "148           6.2           5.4        0.194641       15.946625   \n",
       "149           5.9           5.1        0.187766       13.063625   \n",
       "\n",
       "     distance_from3  closest  \n",
       "0          0.118878        2  \n",
       "1          0.293163        2  \n",
       "2          0.573163        2  \n",
       "3          0.698878        2  \n",
       "4          0.196020        2  \n",
       "..              ...      ...  \n",
       "145       15.447449        1  \n",
       "146       13.147449        1  \n",
       "147       14.981735        1  \n",
       "148       15.961735        1  \n",
       "149       13.330306        1  \n",
       "\n",
       "[150 rows x 6 columns]"
      ]
     },
     "execution_count": 65,
     "metadata": {},
     "output_type": "execute_result"
    }
   ],
   "source": [
    "test_data"
   ]
  },
  {
   "cell_type": "code",
   "execution_count": 70,
   "id": "8cb84349",
   "metadata": {},
   "outputs": [
    {
     "data": {
      "image/png": "[encoded data removed]",
      "text/plain": [
       "<Figure size 720x360 with 1 Axes>"
      ]
     },
     "metadata": {
      "needs_background": "light"
     },
     "output_type": "display_data"
    }
   ],
   "source": [
    "fig = plt.figure(figsize=(10,5))\n",
    "plt.scatter(data_np[:][0],data_np[:][1])\n",
    "for key in final_centers.keys():\n",
    "    plt.scatter(*final_centers[key][0])\n",
    "    \n",
    "    \n",
    "plt.show()\n",
    "#cs[1][0]"
   ]
  },
  {
   "cell_type": "code",
   "execution_count": 86,
   "id": "84c4745d",
   "metadata": {},
   "outputs": [
    {
     "name": "stdout",
     "output_type": "stream",
     "text": [
      "[2, 3, 4, 5, 6, 7, 8, 9]\n",
      "[112.96262731481481, 53.80135119312654, 34.92285035609552, 30.606068398268395, 26.584683429984647, 28.41211006493506, 16.78039210789211, 15.303398961746058]\n"
     ]
    }
   ],
   "source": [
    "cost_lst = []\n",
    "k_hist = []\n",
    "for k in range(2,10):\n",
    "    final_data,final_centers = k_means(data,k)\n",
    "    cost = 0\n",
    "    for i in range(k):\n",
    "        date = final_data[final_data['closest']==i+1]\n",
    "        cost += np.sum(date.iloc[:,i+2])\n",
    "    cost_lst.append(cost)\n",
    "    k_hist.append(k)\n",
    "\n",
    "print(k_hist)\n",
    "print(cost_lst)"
   ]
  },
  {
   "cell_type": "code",
   "execution_count": 87,
   "id": "0f2e85eb",
   "metadata": {},
   "outputs": [
    {
     "data": {
      "image/png": "[encoded data removed]",
      "text/plain": [
       "<Figure size 432x288 with 1 Axes>"
      ]
     },
     "metadata": {
      "needs_background": "light"
     },
     "output_type": "display_data"
    }
   ],
   "source": [
    "plt.plot(k_hist,cost_lst)\n",
    "plt.title('Elbow Graph')\n",
    "plt.xlabel('No. Of Clusters')\n",
    "plt.ylabel('Distortion')\n",
    "plt.show()"
   ]
  },
  {
   "cell_type": "code",
   "execution_count": 76,
   "id": "4c54af8a",
   "metadata": {},
   "outputs": [
    {
     "data": {
      "text/plain": [
       "{1: [array([5.00784314, 1.49411765])],\n",
       " 2: [array([5.87413793, 4.39310345])],\n",
       " 3: [array([6.83902439, 5.67804878])]}"
      ]
     },
     "execution_count": 76,
     "metadata": {},
     "output_type": "execute_result"
    }
   ],
   "source": [
    "final_centers"
   ]
  },
  {
   "cell_type": "code",
   "execution_count": 88,
   "id": "a064a9c6",
   "metadata": {},
   "outputs": [
    {
     "data": {
      "text/plain": [
       "<matplotlib.collections.PathCollection at 0x2248d9df550>"
      ]
     },
     "execution_count": 88,
     "metadata": {},
     "output_type": "execute_result"
    },
    {
     "data": {
      "image/png": "[encoded data removed]",
      "text/plain": [
       "<Figure size 432x288 with 1 Axes>"
      ]
     },
     "metadata": {
      "needs_background": "light"
     },
     "output_type": "display_data"
    }
   ],
   "source": [
    "test_data , final_centers = k_means(data,4)\n",
    "final_centers\n",
    "plt.scatter(test_data[test_data['closest'] == 1]['sepal_length'],test_data[test_data['closest'] == 1]['petal_length'] , c='r')\n",
    "plt.scatter(test_data[test_data['closest'] == 2]['sepal_length'],test_data[test_data['closest'] == 2]['petal_length'] , c='g')\n",
    "plt.scatter(test_data[test_data['closest'] == 3]['sepal_length'],test_data[test_data['closest'] == 3]['petal_length'] , c='b')\n",
    "plt.scatter(test_data[test_data['closest'] == 4]['sepal_length'],test_data[test_data['closest'] == 4]['petal_length'] , c='y')\n",
    "\n",
    "# for key in final_centers.keys():\n",
    "#     plt.scatter(*final_centers[key][0])\n",
    "    \n",
    "# plt.show()"
   ]
  }
 ],
 "metadata": {
  "kernelspec": {
   "display_name": "Python 3 (ipykernel)",
   "language": "python",
   "name": "python3"
  },
  "language_info": {
   "codemirror_mode": {
    "name": "ipython",
    "version": 3
   },
   "file_extension": ".py",
   "mimetype": "text/x-python",
   "name": "python",
   "nbconvert_exporter": "python",
   "pygments_lexer": "ipython3",
   "version": "3.8.12"
  }
 },
 "nbformat": 4,
 "nbformat_minor": 5
}
